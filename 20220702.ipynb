{
  "nbformat": 4,
  "nbformat_minor": 0,
  "metadata": {
    "colab": {
      "name": "20220702.ipynb",
      "provenance": [],
      "include_colab_link": true
    },
    "kernelspec": {
      "name": "python3",
      "display_name": "Python 3"
    },
    "language_info": {
      "name": "python"
    }
  },
  "cells": [
    {
      "cell_type": "markdown",
      "metadata": {
        "id": "view-in-github",
        "colab_type": "text"
      },
      "source": [
        "<a href=\"https://colab.research.google.com/github/laiwung/20220702-python/blob/main/20220702.ipynb\" target=\"_parent\"><img src=\"https://colab.research.google.com/assets/colab-badge.svg\" alt=\"Open In Colab\"/></a>"
      ]
    },
    {
      "cell_type": "markdown",
      "source": [
        "# 20220702-Python人工智慧應用班"
      ],
      "metadata": {
        "id": "eCoh6bgxzcjd"
      }
    },
    {
      "cell_type": "code",
      "execution_count": null,
      "metadata": {
        "colab": {
          "base_uri": "https://localhost:8080/"
        },
        "id": "WmvvTtiRytRE",
        "outputId": "a62e04a6-dcfc-4369-98db-199339d3aea0"
      },
      "outputs": [
        {
          "output_type": "stream",
          "name": "stdout",
          "text": [
            "Hello world!\n"
          ]
        }
      ],
      "source": [
        "print(\"Hello world!\")"
      ]
    },
    {
      "cell_type": "markdown",
      "source": [
        "# 畫金字塔"
      ],
      "metadata": {
        "id": "-bNM2lVK6c5K"
      }
    },
    {
      "cell_type": "code",
      "source": [
        "\"*\" * 10"
      ],
      "metadata": {
        "colab": {
          "base_uri": "https://localhost:8080/",
          "height": 35
        },
        "id": "9FEkaar_6f-S",
        "outputId": "121bcdde-5571-483a-8dd5-1b6e9177f461"
      },
      "execution_count": null,
      "outputs": [
        {
          "output_type": "execute_result",
          "data": {
            "text/plain": [
              "'**********'"
            ],
            "application/vnd.google.colaboratory.intrinsic+json": {
              "type": "string"
            }
          },
          "metadata": {},
          "execution_count": 2
        }
      ]
    },
    {
      "cell_type": "code",
      "source": [
        "\"*\"*10+\" \"*10+\"*\"*10"
      ],
      "metadata": {
        "colab": {
          "base_uri": "https://localhost:8080/",
          "height": 35
        },
        "id": "Ay-LAbW86xgG",
        "outputId": "dcd74d8f-18a0-4192-812c-52c3d7f70398"
      },
      "execution_count": null,
      "outputs": [
        {
          "output_type": "execute_result",
          "data": {
            "text/plain": [
              "'**********          **********'"
            ],
            "application/vnd.google.colaboratory.intrinsic+json": {
              "type": "string"
            }
          },
          "metadata": {},
          "execution_count": 3
        }
      ]
    },
    {
      "cell_type": "code",
      "source": [
        "for i in range(5):\n",
        "  print(i)"
      ],
      "metadata": {
        "colab": {
          "base_uri": "https://localhost:8080/"
        },
        "id": "mFwOsMQb647b",
        "outputId": "b88219d6-c784-4dc2-9842-39ff3d973d35"
      },
      "execution_count": null,
      "outputs": [
        {
          "output_type": "stream",
          "name": "stdout",
          "text": [
            "0\n",
            "1\n",
            "2\n",
            "3\n",
            "4\n"
          ]
        }
      ]
    },
    {
      "cell_type": "code",
      "source": [
        "for i in range(5):\n",
        "  print(2*i+1)"
      ],
      "metadata": {
        "colab": {
          "base_uri": "https://localhost:8080/"
        },
        "id": "zWoZw5Ww7RzI",
        "outputId": "7a4e081d-24b6-4ce2-cc55-052aeec207b9"
      },
      "execution_count": null,
      "outputs": [
        {
          "output_type": "stream",
          "name": "stdout",
          "text": [
            "1\n",
            "3\n",
            "5\n",
            "7\n",
            "9\n"
          ]
        }
      ]
    },
    {
      "cell_type": "code",
      "source": [
        "for i in range(5):\n",
        "  print((2*i+1)*\"*\")"
      ],
      "metadata": {
        "colab": {
          "base_uri": "https://localhost:8080/"
        },
        "id": "3cnKRpc17awU",
        "outputId": "7adf52e0-4577-4d4e-a3b8-648fe57c0bed"
      },
      "execution_count": null,
      "outputs": [
        {
          "output_type": "stream",
          "name": "stdout",
          "text": [
            "*\n",
            "***\n",
            "*****\n",
            "*******\n",
            "*********\n"
          ]
        }
      ]
    },
    {
      "cell_type": "code",
      "source": [
        "for i in range(5):\n",
        "  print((5-i)*\" \"+(2*i+1)*\"*\")"
      ],
      "metadata": {
        "colab": {
          "base_uri": "https://localhost:8080/"
        },
        "id": "lKT58Cwy-QaA",
        "outputId": "120eb3e6-3267-43ba-ca26-061a2f601245"
      },
      "execution_count": null,
      "outputs": [
        {
          "output_type": "stream",
          "name": "stdout",
          "text": [
            "     *\n",
            "    ***\n",
            "   *****\n",
            "  *******\n",
            " *********\n"
          ]
        }
      ]
    },
    {
      "cell_type": "code",
      "source": [
        "def pyramid(n):\n",
        "  for i in range(n):\n",
        "    print((n-i)*\" \"+(2*i+1)*\"*\")"
      ],
      "metadata": {
        "id": "fqoUFAcP_ZsY"
      },
      "execution_count": null,
      "outputs": []
    },
    {
      "cell_type": "code",
      "source": [
        "pyramid(10)"
      ],
      "metadata": {
        "colab": {
          "base_uri": "https://localhost:8080/"
        },
        "id": "8rXPewj5_gcz",
        "outputId": "684d5151-81bf-46d6-f512-413a59ac2612"
      },
      "execution_count": null,
      "outputs": [
        {
          "output_type": "stream",
          "name": "stdout",
          "text": [
            "          *\n",
            "         ***\n",
            "        *****\n",
            "       *******\n",
            "      *********\n",
            "     ***********\n",
            "    *************\n",
            "   ***************\n",
            "  *****************\n",
            " *******************\n"
          ]
        }
      ]
    },
    {
      "cell_type": "markdown",
      "source": [
        "# 使用LINE Notify傳送訊息"
      ],
      "metadata": {
        "id": "sIFBINXU6JpX"
      }
    },
    {
      "cell_type": "code",
      "source": [
        "!curl -o linenotify.py https://raw.githubusercontent.com/victorgau/khpy_linenotify_intro/main/py/linenotify.py"
      ],
      "metadata": {
        "id": "L6tn7OqGzdNb",
        "colab": {
          "base_uri": "https://localhost:8080/"
        },
        "outputId": "f7e3a13a-a15d-4118-b004-6715c5c9bf09"
      },
      "execution_count": 3,
      "outputs": [
        {
          "output_type": "stream",
          "name": "stdout",
          "text": [
            "  % Total    % Received % Xferd  Average Speed   Time    Time     Time  Current\n",
            "                                 Dload  Upload   Total   Spent    Left  Speed\n",
            "100   818  100   818    0     0   2556      0 --:--:-- --:--:-- --:--:--  2556\n"
          ]
        }
      ]
    },
    {
      "cell_type": "code",
      "source": [
        "laiwung = \"SziTiVzvQYlreGFCKLUE69u0xAL5mtFJXI1AytKqaEK\""
      ],
      "metadata": {
        "id": "bUXbJ6X1eZCg"
      },
      "execution_count": 13,
      "outputs": []
    },
    {
      "cell_type": "code",
      "source": [
        "from linenotify import Notify"
      ],
      "metadata": {
        "id": "TUNpSa_ggCeA"
      },
      "execution_count": 14,
      "outputs": []
    },
    {
      "cell_type": "code",
      "source": [
        "Notify(laiwung, \"你好帥！\",img=\"9.jpg\")"
      ],
      "metadata": {
        "id": "jM6e58nEgVEd",
        "outputId": "54eea867-c6f9-44ed-8edb-f2447fffe634",
        "colab": {
          "base_uri": "https://localhost:8080/"
        }
      },
      "execution_count": 16,
      "outputs": [
        {
          "output_type": "execute_result",
          "data": {
            "text/plain": [
              "<Response [200]>"
            ]
          },
          "metadata": {},
          "execution_count": 16
        }
      ]
    },
    {
      "cell_type": "code",
      "source": [
        "x = list(\"abcde\")"
      ],
      "metadata": {
        "id": "HuoCScLL0_bY"
      },
      "execution_count": 20,
      "outputs": []
    },
    {
      "cell_type": "code",
      "source": [
        "x"
      ],
      "metadata": {
        "id": "Xo6N7cXT1GlK",
        "outputId": "e76c5075-7dc1-4307-c13e-76159a20cac8",
        "colab": {
          "base_uri": "https://localhost:8080/"
        }
      },
      "execution_count": 21,
      "outputs": [
        {
          "output_type": "execute_result",
          "data": {
            "text/plain": [
              "['a', 'b', 'c', 'd', 'e']"
            ]
          },
          "metadata": {},
          "execution_count": 21
        }
      ]
    },
    {
      "cell_type": "code",
      "source": [
        "x[2]"
      ],
      "metadata": {
        "id": "mOk8mnV51M8c",
        "outputId": "a67d5bbf-4f3a-4941-e119-a24564e992c9",
        "colab": {
          "base_uri": "https://localhost:8080/",
          "height": 38
        }
      },
      "execution_count": 22,
      "outputs": [
        {
          "output_type": "execute_result",
          "data": {
            "text/plain": [
              "'c'"
            ],
            "application/vnd.google.colaboratory.intrinsic+json": {
              "type": "string"
            }
          },
          "metadata": {},
          "execution_count": 22
        }
      ]
    },
    {
      "cell_type": "code",
      "source": [
        "url = \"https://pic.pimg.tw/jpymotor/1655180591-2877044577-g.jpg\""
      ],
      "metadata": {
        "id": "ARJfTUhKmESq"
      },
      "execution_count": 23,
      "outputs": []
    },
    {
      "cell_type": "code",
      "source": [
        "url[-27:]"
      ],
      "metadata": {
        "id": "9uhaRdYizsH2",
        "outputId": "fc078ce9-34e0-4824-ca5d-d47d89078bf0",
        "colab": {
          "base_uri": "https://localhost:8080/",
          "height": 38
        }
      },
      "execution_count": 24,
      "outputs": [
        {
          "output_type": "execute_result",
          "data": {
            "text/plain": [
              "'1655180591-2877044577-g.jpg'"
            ],
            "application/vnd.google.colaboratory.intrinsic+json": {
              "type": "string"
            }
          },
          "metadata": {},
          "execution_count": 24
        }
      ]
    },
    {
      "cell_type": "code",
      "source": [
        "type(url)"
      ],
      "metadata": {
        "id": "2opMImtY0wWd",
        "outputId": "465c374e-d5dc-466d-dc16-1cea7ee46264",
        "colab": {
          "base_uri": "https://localhost:8080/"
        }
      },
      "execution_count": 25,
      "outputs": [
        {
          "output_type": "execute_result",
          "data": {
            "text/plain": [
              "str"
            ]
          },
          "metadata": {},
          "execution_count": 25
        }
      ]
    },
    {
      "cell_type": "code",
      "source": [
        "url.split(\"/\")[-1]"
      ],
      "metadata": {
        "id": "of0KInfH1mGe",
        "outputId": "d302c951-eafd-4e9f-a018-f7d15220cad6",
        "colab": {
          "base_uri": "https://localhost:8080/",
          "height": 38
        }
      },
      "execution_count": 26,
      "outputs": [
        {
          "output_type": "execute_result",
          "data": {
            "text/plain": [
              "'1655180591-2877044577-g.jpg'"
            ],
            "application/vnd.google.colaboratory.intrinsic+json": {
              "type": "string"
            }
          },
          "metadata": {},
          "execution_count": 26
        }
      ]
    },
    {
      "cell_type": "markdown",
      "source": [
        "#tuple"
      ],
      "metadata": {
        "id": "0Q8LgJ1B3HrO"
      }
    },
    {
      "cell_type": "code",
      "source": [
        "y = tuple(\"abcde\")"
      ],
      "metadata": {
        "id": "3MBG8r3v2jeb"
      },
      "execution_count": 27,
      "outputs": []
    },
    {
      "cell_type": "code",
      "source": [
        "y"
      ],
      "metadata": {
        "id": "iDvVchhG2uPK",
        "outputId": "69954dfb-4da9-4d69-9332-933d5767ba3e",
        "colab": {
          "base_uri": "https://localhost:8080/"
        }
      },
      "execution_count": 28,
      "outputs": [
        {
          "output_type": "execute_result",
          "data": {
            "text/plain": [
              "('a', 'b', 'c', 'd', 'e')"
            ]
          },
          "metadata": {},
          "execution_count": 28
        }
      ]
    },
    {
      "cell_type": "code",
      "source": [
        "y[2:4]"
      ],
      "metadata": {
        "id": "-sIuKjaW2wfT",
        "outputId": "2628fe0b-9f1e-4952-d1b1-a27bd0b8586a",
        "colab": {
          "base_uri": "https://localhost:8080/"
        }
      },
      "execution_count": 29,
      "outputs": [
        {
          "output_type": "execute_result",
          "data": {
            "text/plain": [
              "('c', 'd')"
            ]
          },
          "metadata": {},
          "execution_count": 29
        }
      ]
    },
    {
      "cell_type": "markdown",
      "source": [
        "# list v.s., tuple"
      ],
      "metadata": {
        "id": "D8Gzf5rl28fP"
      }
    },
    {
      "cell_type": "code",
      "source": [
        "x"
      ],
      "metadata": {
        "id": "RiqTCQet21ER",
        "outputId": "377a9197-ac25-4258-e98b-93c0550b79bb",
        "colab": {
          "base_uri": "https://localhost:8080/"
        }
      },
      "execution_count": 30,
      "outputs": [
        {
          "output_type": "execute_result",
          "data": {
            "text/plain": [
              "['a', 'b', 'c', 'd', 'e']"
            ]
          },
          "metadata": {},
          "execution_count": 30
        }
      ]
    },
    {
      "cell_type": "code",
      "source": [
        "y"
      ],
      "metadata": {
        "id": "i-eQTBYS3Uao",
        "outputId": "1c19760c-39a6-4470-e771-9d5011b5f7e2",
        "colab": {
          "base_uri": "https://localhost:8080/"
        }
      },
      "execution_count": 31,
      "outputs": [
        {
          "output_type": "execute_result",
          "data": {
            "text/plain": [
              "('a', 'b', 'c', 'd', 'e')"
            ]
          },
          "metadata": {},
          "execution_count": 31
        }
      ]
    }
  ]
}